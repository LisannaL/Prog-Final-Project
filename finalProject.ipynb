{
 "cells": [
  {
   "cell_type": "markdown",
   "metadata": {},
   "source": [
    "<h1><center> Using Machine Learning Techniques in <br> the Detection of Fake News </center></h1>"
   ]
  },
  {
   "cell_type": "markdown",
   "metadata": {},
   "source": [
    "<h2 style='font-weight:normal'><center> Spring Term Project, <b> Lisanna Lehes </b> </center></h2>"
   ]
  },
  {
   "cell_type": "markdown",
   "metadata": {},
   "source": [
    "<div style=\"text-align: right\"> \n",
    "Universidad de Huelva <br>\n",
    "Facultad de CC. Experimentales <br>\n",
    "Grado en Química <br>\n",
    "Computational Chemistry\n",
    " </div>\n"
   ]
  },
  {
   "cell_type": "markdown",
   "metadata": {},
   "source": [
    "#### <b>Aim of the project:</b> to create a machine learning model that would help detect fake news using Scikit-learn library and Passive Agression Algorithm."
   ]
  },
  {
   "cell_type": "markdown",
   "metadata": {},
   "source": [
    "## Part I"
   ]
  },
  {
   "cell_type": "markdown",
   "metadata": {},
   "source": [
    "### 1. Importing the necessary libraries "
   ]
  },
  {
   "cell_type": "code",
   "execution_count": 1,
   "metadata": {},
   "outputs": [],
   "source": [
    "import pandas as pd\n",
    "import numpy as np"
   ]
  },
  {
   "cell_type": "markdown",
   "metadata": {},
   "source": [
    "### 2. Importing the dataset"
   ]
  },
  {
   "cell_type": "code",
   "execution_count": 2,
   "metadata": {},
   "outputs": [],
   "source": [
    "# Importing dataset\n",
    "df = pd.read_csv('/Users/Lisanna/Desktop/fake_news/train.csv')"
   ]
  },
  {
   "cell_type": "code",
   "execution_count": 3,
   "metadata": {},
   "outputs": [
    {
     "data": {
      "text/plain": [
       "(20800, 5)"
      ]
     },
     "execution_count": 3,
     "metadata": {},
     "output_type": "execute_result"
    }
   ],
   "source": [
    "df.shape"
   ]
  },
  {
   "cell_type": "code",
   "execution_count": 4,
   "metadata": {},
   "outputs": [
    {
     "data": {
      "text/html": [
       "<div>\n",
       "<style scoped>\n",
       "    .dataframe tbody tr th:only-of-type {\n",
       "        vertical-align: middle;\n",
       "    }\n",
       "\n",
       "    .dataframe tbody tr th {\n",
       "        vertical-align: top;\n",
       "    }\n",
       "\n",
       "    .dataframe thead th {\n",
       "        text-align: right;\n",
       "    }\n",
       "</style>\n",
       "<table border=\"1\" class=\"dataframe\">\n",
       "  <thead>\n",
       "    <tr style=\"text-align: right;\">\n",
       "      <th></th>\n",
       "      <th>id</th>\n",
       "      <th>title</th>\n",
       "      <th>author</th>\n",
       "      <th>text</th>\n",
       "      <th>label</th>\n",
       "    </tr>\n",
       "  </thead>\n",
       "  <tbody>\n",
       "    <tr>\n",
       "      <th>0</th>\n",
       "      <td>0</td>\n",
       "      <td>House Dem Aide: We Didn’t Even See Comey’s Let...</td>\n",
       "      <td>Darrell Lucus</td>\n",
       "      <td>House Dem Aide: We Didn’t Even See Comey’s Let...</td>\n",
       "      <td>1</td>\n",
       "    </tr>\n",
       "    <tr>\n",
       "      <th>1</th>\n",
       "      <td>1</td>\n",
       "      <td>FLYNN: Hillary Clinton, Big Woman on Campus - ...</td>\n",
       "      <td>Daniel J. Flynn</td>\n",
       "      <td>Ever get the feeling your life circles the rou...</td>\n",
       "      <td>0</td>\n",
       "    </tr>\n",
       "    <tr>\n",
       "      <th>2</th>\n",
       "      <td>2</td>\n",
       "      <td>Why the Truth Might Get You Fired</td>\n",
       "      <td>Consortiumnews.com</td>\n",
       "      <td>Why the Truth Might Get You Fired October 29, ...</td>\n",
       "      <td>1</td>\n",
       "    </tr>\n",
       "    <tr>\n",
       "      <th>3</th>\n",
       "      <td>3</td>\n",
       "      <td>15 Civilians Killed In Single US Airstrike Hav...</td>\n",
       "      <td>Jessica Purkiss</td>\n",
       "      <td>Videos 15 Civilians Killed In Single US Airstr...</td>\n",
       "      <td>1</td>\n",
       "    </tr>\n",
       "    <tr>\n",
       "      <th>4</th>\n",
       "      <td>4</td>\n",
       "      <td>Iranian woman jailed for fictional unpublished...</td>\n",
       "      <td>Howard Portnoy</td>\n",
       "      <td>Print \\nAn Iranian woman has been sentenced to...</td>\n",
       "      <td>1</td>\n",
       "    </tr>\n",
       "  </tbody>\n",
       "</table>\n",
       "</div>"
      ],
      "text/plain": [
       "   id                                              title              author  \\\n",
       "0   0  House Dem Aide: We Didn’t Even See Comey’s Let...       Darrell Lucus   \n",
       "1   1  FLYNN: Hillary Clinton, Big Woman on Campus - ...     Daniel J. Flynn   \n",
       "2   2                  Why the Truth Might Get You Fired  Consortiumnews.com   \n",
       "3   3  15 Civilians Killed In Single US Airstrike Hav...     Jessica Purkiss   \n",
       "4   4  Iranian woman jailed for fictional unpublished...      Howard Portnoy   \n",
       "\n",
       "                                                text  label  \n",
       "0  House Dem Aide: We Didn’t Even See Comey’s Let...      1  \n",
       "1  Ever get the feeling your life circles the rou...      0  \n",
       "2  Why the Truth Might Get You Fired October 29, ...      1  \n",
       "3  Videos 15 Civilians Killed In Single US Airstr...      1  \n",
       "4  Print \\nAn Iranian woman has been sentenced to...      1  "
      ]
     },
     "execution_count": 4,
     "metadata": {},
     "output_type": "execute_result"
    }
   ],
   "source": [
    "# Returning the first 5 rows\n",
    "df.head()"
   ]
  },
  {
   "cell_type": "markdown",
   "metadata": {},
   "source": [
    "### 3. Converting the '0's and '1's to 'FAKE' and 'TRUE'"
   ]
  },
  {
   "cell_type": "markdown",
   "metadata": {},
   "source": [
    "‘0’ for RELIABLE article <br>\n",
    "‘1’ for FAKE NEWS"
   ]
  },
  {
   "cell_type": "code",
   "execution_count": 5,
   "metadata": {},
   "outputs": [],
   "source": [
    "# Accessing a group of rows and columns by label\n",
    "df.loc[(df['label'] == 1) , ['label']] = 'FAKE'\n",
    "df.loc[(df['label'] == 0), ['label']] = 'REAL'"
   ]
  },
  {
   "cell_type": "code",
   "execution_count": 6,
   "metadata": {},
   "outputs": [
    {
     "data": {
      "text/html": [
       "<div>\n",
       "<style scoped>\n",
       "    .dataframe tbody tr th:only-of-type {\n",
       "        vertical-align: middle;\n",
       "    }\n",
       "\n",
       "    .dataframe tbody tr th {\n",
       "        vertical-align: top;\n",
       "    }\n",
       "\n",
       "    .dataframe thead th {\n",
       "        text-align: right;\n",
       "    }\n",
       "</style>\n",
       "<table border=\"1\" class=\"dataframe\">\n",
       "  <thead>\n",
       "    <tr style=\"text-align: right;\">\n",
       "      <th></th>\n",
       "      <th>id</th>\n",
       "      <th>title</th>\n",
       "      <th>author</th>\n",
       "      <th>text</th>\n",
       "      <th>label</th>\n",
       "    </tr>\n",
       "  </thead>\n",
       "  <tbody>\n",
       "    <tr>\n",
       "      <th>0</th>\n",
       "      <td>0</td>\n",
       "      <td>House Dem Aide: We Didn’t Even See Comey’s Let...</td>\n",
       "      <td>Darrell Lucus</td>\n",
       "      <td>House Dem Aide: We Didn’t Even See Comey’s Let...</td>\n",
       "      <td>FAKE</td>\n",
       "    </tr>\n",
       "    <tr>\n",
       "      <th>1</th>\n",
       "      <td>1</td>\n",
       "      <td>FLYNN: Hillary Clinton, Big Woman on Campus - ...</td>\n",
       "      <td>Daniel J. Flynn</td>\n",
       "      <td>Ever get the feeling your life circles the rou...</td>\n",
       "      <td>REAL</td>\n",
       "    </tr>\n",
       "    <tr>\n",
       "      <th>2</th>\n",
       "      <td>2</td>\n",
       "      <td>Why the Truth Might Get You Fired</td>\n",
       "      <td>Consortiumnews.com</td>\n",
       "      <td>Why the Truth Might Get You Fired October 29, ...</td>\n",
       "      <td>FAKE</td>\n",
       "    </tr>\n",
       "    <tr>\n",
       "      <th>3</th>\n",
       "      <td>3</td>\n",
       "      <td>15 Civilians Killed In Single US Airstrike Hav...</td>\n",
       "      <td>Jessica Purkiss</td>\n",
       "      <td>Videos 15 Civilians Killed In Single US Airstr...</td>\n",
       "      <td>FAKE</td>\n",
       "    </tr>\n",
       "    <tr>\n",
       "      <th>4</th>\n",
       "      <td>4</td>\n",
       "      <td>Iranian woman jailed for fictional unpublished...</td>\n",
       "      <td>Howard Portnoy</td>\n",
       "      <td>Print \\nAn Iranian woman has been sentenced to...</td>\n",
       "      <td>FAKE</td>\n",
       "    </tr>\n",
       "  </tbody>\n",
       "</table>\n",
       "</div>"
      ],
      "text/plain": [
       "   id                                              title              author  \\\n",
       "0   0  House Dem Aide: We Didn’t Even See Comey’s Let...       Darrell Lucus   \n",
       "1   1  FLYNN: Hillary Clinton, Big Woman on Campus - ...     Daniel J. Flynn   \n",
       "2   2                  Why the Truth Might Get You Fired  Consortiumnews.com   \n",
       "3   3  15 Civilians Killed In Single US Airstrike Hav...     Jessica Purkiss   \n",
       "4   4  Iranian woman jailed for fictional unpublished...      Howard Portnoy   \n",
       "\n",
       "                                                text label  \n",
       "0  House Dem Aide: We Didn’t Even See Comey’s Let...  FAKE  \n",
       "1  Ever get the feeling your life circles the rou...  REAL  \n",
       "2  Why the Truth Might Get You Fired October 29, ...  FAKE  \n",
       "3  Videos 15 Civilians Killed In Single US Airstr...  FAKE  \n",
       "4  Print \\nAn Iranian woman has been sentenced to...  FAKE  "
      ]
     },
     "execution_count": 6,
     "metadata": {},
     "output_type": "execute_result"
    }
   ],
   "source": [
    "df.head()"
   ]
  },
  {
   "cell_type": "markdown",
   "metadata": {},
   "source": [
    "### 4. Splitting the dataset into test and training data"
   ]
  },
  {
   "cell_type": "code",
   "execution_count": 7,
   "metadata": {},
   "outputs": [
    {
     "data": {
      "text/plain": [
       "0    FAKE\n",
       "1    REAL\n",
       "2    FAKE\n",
       "3    FAKE\n",
       "4    FAKE\n",
       "Name: label, dtype: object"
      ]
     },
     "execution_count": 7,
     "metadata": {},
     "output_type": "execute_result"
    }
   ],
   "source": [
    "labels = df.label\n",
    "labels.head()"
   ]
  },
  {
   "cell_type": "code",
   "execution_count": 8,
   "metadata": {},
   "outputs": [
    {
     "data": {
      "text/plain": [
       "FAKE    10413\n",
       "REAL    10387\n",
       "Name: label, dtype: int64"
      ]
     },
     "execution_count": 8,
     "metadata": {},
     "output_type": "execute_result"
    }
   ],
   "source": [
    "labels.value_counts()"
   ]
  },
  {
   "cell_type": "markdown",
   "metadata": {},
   "source": [
    "Splitting the downloaded dataset into two subsets, 70% of the entries\n",
    "will be used to train the model and the rest (30%) to test the model’s predictive power."
   ]
  },
  {
   "cell_type": "code",
   "execution_count": 9,
   "metadata": {},
   "outputs": [],
   "source": [
    "from sklearn.model_selection import train_test_split\n",
    "# Split arrays or matrices into random train and test subsets"
   ]
  },
  {
   "cell_type": "code",
   "execution_count": 10,
   "metadata": {},
   "outputs": [],
   "source": [
    "x_train, x_test, y_train, y_test = train_test_split(df['text'].values.astype('str'), labels, test_size = 0.3, random_state = 7)"
   ]
  },
  {
   "cell_type": "code",
   "execution_count": 11,
   "metadata": {},
   "outputs": [],
   "source": [
    "# Random_state parameter may be provided to control the random number generator used"
   ]
  },
  {
   "cell_type": "markdown",
   "metadata": {},
   "source": [
    "### 5. Using TfidfVectorizer"
   ]
  },
  {
   "cell_type": "markdown",
   "metadata": {},
   "source": [
    "__TfidfVectorizer__ uses stop words from the English language. <br>\n",
    "The number of times a word appears in a document is its __Term Frequency__. <br> A higher value means a term appears more often than others, and so, the document is a good match when the term is part of the search terms.\n"
   ]
  },
  {
   "cell_type": "code",
   "execution_count": 12,
   "metadata": {},
   "outputs": [],
   "source": [
    "from sklearn.feature_extraction.text import TfidfVectorizer"
   ]
  },
  {
   "cell_type": "code",
   "execution_count": 13,
   "metadata": {},
   "outputs": [],
   "source": [
    "tfidf_vectorizer = TfidfVectorizer(stop_words = 'english', max_df = 0.7)"
   ]
  },
  {
   "cell_type": "markdown",
   "metadata": {},
   "source": [
    "__max_df__ --> ignores terms that appear in more than 70% of the documents --> used for terms that appear too frequently"
   ]
  },
  {
   "cell_type": "markdown",
   "metadata": {},
   "source": [
    "### 6. Fitting and transfroming the test and training data set"
   ]
  },
  {
   "cell_type": "code",
   "execution_count": 14,
   "metadata": {},
   "outputs": [],
   "source": [
    "tfidf_train = tfidf_vectorizer.fit_transform(x_train)"
   ]
  },
  {
   "cell_type": "code",
   "execution_count": 15,
   "metadata": {},
   "outputs": [],
   "source": [
    "tfidf_test = tfidf_vectorizer.transform(x_test)"
   ]
  },
  {
   "cell_type": "markdown",
   "metadata": {},
   "source": [
    "* __transform()__ : parameters generated from fit() method,applied upon model to generate transformed data set.\n",
    "\n",
    "* __fit_transform()__ : combination of fit() and transform() api on same data set\n",
    "\n"
   ]
  },
  {
   "cell_type": "markdown",
   "metadata": {},
   "source": [
    "### 7. Initializing PassiveAggressiveClassifier"
   ]
  },
  {
   "cell_type": "code",
   "execution_count": 16,
   "metadata": {},
   "outputs": [],
   "source": [
    "from sklearn.linear_model import PassiveAggressiveClassifier\n",
    "# Passive: if correct classification, keep the model; \n",
    "# Aggressive: if incorrect classification, update to adjust to this misclassified example."
   ]
  },
  {
   "cell_type": "code",
   "execution_count": 17,
   "metadata": {},
   "outputs": [
    {
     "data": {
      "text/plain": [
       "PassiveAggressiveClassifier(C=1.0, average=False, class_weight=None,\n",
       "                            early_stopping=False, fit_intercept=True,\n",
       "                            loss='hinge', max_iter=50, n_iter_no_change=5,\n",
       "                            n_jobs=None, random_state=None, shuffle=True,\n",
       "                            tol=0.001, validation_fraction=0.1, verbose=0,\n",
       "                            warm_start=False)"
      ]
     },
     "execution_count": 17,
     "metadata": {},
     "output_type": "execute_result"
    }
   ],
   "source": [
    "pa_classifier = PassiveAggressiveClassifier(max_iter = 50)\n",
    "pa_classifier.fit(tfidf_train, y_train)"
   ]
  },
  {
   "cell_type": "markdown",
   "metadata": {},
   "source": [
    "__max_iter__ --> Maximum number of iterations of the k-means algorithm for a single run.\n"
   ]
  },
  {
   "cell_type": "markdown",
   "metadata": {},
   "source": [
    "### 8. Predicting and calculating the accuracy"
   ]
  },
  {
   "cell_type": "code",
   "execution_count": 30,
   "metadata": {},
   "outputs": [],
   "source": [
    "from sklearn.metrics import accuracy_score"
   ]
  },
  {
   "cell_type": "code",
   "execution_count": 19,
   "metadata": {},
   "outputs": [],
   "source": [
    "y_pred = pa_classifier.predict(tfidf_test)\n",
    "score = accuracy_score(y_test, y_pred)"
   ]
  },
  {
   "cell_type": "code",
   "execution_count": 20,
   "metadata": {},
   "outputs": [
    {
     "name": "stdout",
     "output_type": "stream",
     "text": [
      "Accuracy: 0.9600961538461539\n"
     ]
    }
   ],
   "source": [
    "print('Accuracy:', score)"
   ]
  },
  {
   "cell_type": "code",
   "execution_count": 21,
   "metadata": {},
   "outputs": [
    {
     "name": "stdout",
     "output_type": "stream",
     "text": [
      "Accuracy: 96.01%\n"
     ]
    }
   ],
   "source": [
    "print(f'Accuracy: {round(score*100, 3)}%')"
   ]
  },
  {
   "cell_type": "markdown",
   "metadata": {},
   "source": [
    "Now the accuracy of the model can be seen when it was conducting its tests. <br> Whereas we know the model's accuracy, we don't know the number of successful predictions/failures. <br> Therefore, we are now going to build a confusion matrix."
   ]
  },
  {
   "cell_type": "markdown",
   "metadata": {},
   "source": [
    "### 9. Building a confusion matrix"
   ]
  },
  {
   "cell_type": "code",
   "execution_count": 28,
   "metadata": {},
   "outputs": [],
   "source": [
    "from sklearn.metrics import confusion_matrix"
   ]
  },
  {
   "cell_type": "code",
   "execution_count": 23,
   "metadata": {},
   "outputs": [
    {
     "data": {
      "text/plain": [
       "array([[2996,  116],\n",
       "       [ 133, 2995]], dtype=int64)"
      ]
     },
     "execution_count": 23,
     "metadata": {},
     "output_type": "execute_result"
    }
   ],
   "source": [
    "confusion_matrix(y_test, y_pred, labels = ['FAKE', 'REAL'])"
   ]
  },
  {
   "cell_type": "markdown",
   "metadata": {},
   "source": [
    "__Results:__ <br>\n",
    "* The model successfully predicted 3001 positives. (Is fake and is predicted as fake)\n",
    "* The model successfully predicted 2998 negatives. (Is real and is predicted as real)\n",
    "* The model predicted 111 false positives. (Real news were considered as fake)\n",
    "* The model predicted 130 false negatives. (Fake News were considered as real)"
   ]
  },
  {
   "cell_type": "markdown",
   "metadata": {},
   "source": [
    "Additionally, we could compute the __F1-score__. <br> \n",
    "__F1 score__ is used to measure a test’s accuracy, therefore, an F-score is considered perfect when it's 1 , while the model is a total failure when it's 0.<br>  A good __F1-score__ means that you have low false positives and low false negatives,\n"
   ]
  },
  {
   "cell_type": "markdown",
   "metadata": {},
   "source": [
    "F1 = 2TP / (2TP + FP + FN)"
   ]
  },
  {
   "cell_type": "code",
   "execution_count": 24,
   "metadata": {},
   "outputs": [
    {
     "name": "stdout",
     "output_type": "stream",
     "text": [
      "0.9613967643761012\n"
     ]
    }
   ],
   "source": [
    "F1 = 2*3001 / (2*3001 + 130 + 111)\n",
    "print(F1)"
   ]
  },
  {
   "cell_type": "code",
   "execution_count": 32,
   "metadata": {},
   "outputs": [
    {
     "name": "stdout",
     "output_type": "stream",
     "text": [
      "              precision    recall  f1-score   support\n",
      "\n",
      "        FAKE       0.96      0.96      0.96      3112\n",
      "        REAL       0.96      0.96      0.96      3128\n",
      "\n",
      "    accuracy                           0.96      6240\n",
      "   macro avg       0.96      0.96      0.96      6240\n",
      "weighted avg       0.96      0.96      0.96      6240\n",
      "\n"
     ]
    }
   ],
   "source": [
    "from sklearn import metrics\n",
    "print(metrics.classification_report(y_test, y_pred, labels = ['FAKE', 'REAL']))"
   ]
  },
  {
   "cell_type": "markdown",
   "metadata": {},
   "source": [
    "## Part II"
   ]
  },
  {
   "cell_type": "markdown",
   "metadata": {},
   "source": [
    "__The aim of part II is to experiment on the model by adding and substracting some variables and to see if the accuracy score is affected by it e.g.:__\n",
    "\n",
    "1. Build a model that would take in __only__ the title of a news article and then predict if it's fake or real.\n",
    "\n",
    "2. Build a model that would take in __both__, the __text__ of the article and the __title__"
   ]
  },
  {
   "cell_type": "markdown",
   "metadata": {},
   "source": [
    "### 1. Experimenting with the title of news articles"
   ]
  },
  {
   "cell_type": "code",
   "execution_count": 33,
   "metadata": {
    "scrolled": true
   },
   "outputs": [],
   "source": [
    "labels_2 = df.label"
   ]
  },
  {
   "cell_type": "code",
   "execution_count": 34,
   "metadata": {},
   "outputs": [],
   "source": [
    "x_train_title, x_test_title ,y_train_title ,y_test_title = train_test_split(df['title'].values.astype('str'), labels_2, test_size=0.3, random_state=7)\n"
   ]
  },
  {
   "cell_type": "code",
   "execution_count": 35,
   "metadata": {},
   "outputs": [],
   "source": [
    "tfidf_vectorizer_title = TfidfVectorizer(stop_words='english', max_df=0.7)\n",
    "#Fit and transform train set, transform test set\n",
    "\n",
    "tfidf_train_title = tfidf_vectorizer_title.fit_transform(x_train_title) \n",
    "tfidf_test_title = tfidf_vectorizer_title.transform(x_test_title)"
   ]
  },
  {
   "cell_type": "code",
   "execution_count": 36,
   "metadata": {},
   "outputs": [
    {
     "data": {
      "text/plain": [
       "PassiveAggressiveClassifier(C=1.0, average=False, class_weight=None,\n",
       "                            early_stopping=False, fit_intercept=True,\n",
       "                            loss='hinge', max_iter=50, n_iter_no_change=5,\n",
       "                            n_jobs=None, random_state=None, shuffle=True,\n",
       "                            tol=0.001, validation_fraction=0.1, verbose=0,\n",
       "                            warm_start=False)"
      ]
     },
     "execution_count": 36,
     "metadata": {},
     "output_type": "execute_result"
    }
   ],
   "source": [
    "pa_classifier_title = PassiveAggressiveClassifier(max_iter = 50)\n",
    "pa_classifier_title.fit(tfidf_train_title, y_train_title)"
   ]
  },
  {
   "cell_type": "code",
   "execution_count": 37,
   "metadata": {},
   "outputs": [
    {
     "name": "stdout",
     "output_type": "stream",
     "text": [
      "Accuracy: 0.9286858974358975\n"
     ]
    }
   ],
   "source": [
    "y_pred_title = pa_classifier_title.predict(tfidf_test_title)\n",
    "score_title = accuracy_score(y_test_title, y_pred_title)\n",
    "print('Accuracy:', score_title)"
   ]
  },
  {
   "cell_type": "code",
   "execution_count": 38,
   "metadata": {},
   "outputs": [
    {
     "name": "stdout",
     "output_type": "stream",
     "text": [
      "Accuracy: 92.869%\n"
     ]
    }
   ],
   "source": [
    "print(f'Accuracy: {round(score_title*100, 3)}%')"
   ]
  },
  {
   "cell_type": "code",
   "execution_count": 39,
   "metadata": {},
   "outputs": [
    {
     "data": {
      "text/plain": [
       "array([[2924,  188],\n",
       "       [ 257, 2871]], dtype=int64)"
      ]
     },
     "execution_count": 39,
     "metadata": {},
     "output_type": "execute_result"
    }
   ],
   "source": [
    "confusion_matrix(y_test_title, y_pred_title, labels = ['FAKE', 'REAL'])"
   ]
  },
  {
   "cell_type": "markdown",
   "metadata": {},
   "source": [
    "__Results:__\n",
    "* The model predicted 2929 positives. (Is fake and were considered fake)\n",
    "* The model predicted 2874 negatives. (Is real and were considered real)\n",
    "* The model predicted 183 false positives. (Real news wereconsidered as fake)\n",
    "* The model predicted 254 false negatives. (Fake news were considered as real)\n",
    "<br>\n"
   ]
  },
  {
   "cell_type": "code",
   "execution_count": 40,
   "metadata": {},
   "outputs": [
    {
     "name": "stdout",
     "output_type": "stream",
     "text": [
      "              precision    recall  f1-score   support\n",
      "\n",
      "        FAKE       0.92      0.94      0.93      3112\n",
      "        REAL       0.94      0.92      0.93      3128\n",
      "\n",
      "    accuracy                           0.93      6240\n",
      "   macro avg       0.93      0.93      0.93      6240\n",
      "weighted avg       0.93      0.93      0.93      6240\n",
      "\n"
     ]
    }
   ],
   "source": [
    "print(metrics.classification_report(y_test_title, y_pred_title, labels = ['FAKE', 'REAL']))"
   ]
  },
  {
   "cell_type": "markdown",
   "metadata": {},
   "source": [
    "### 2. Prediction model with 2 variables"
   ]
  },
  {
   "cell_type": "markdown",
   "metadata": {},
   "source": [
    "In this part I am trying to detect fake news by building a model that would have __two variables__ - __text of the article__ and __title__ - and see if the <br> accuracy score is affected by it (whether it builds a better model or not)."
   ]
  },
  {
   "cell_type": "code",
   "execution_count": 41,
   "metadata": {},
   "outputs": [],
   "source": [
    "labels_3 = df.label"
   ]
  },
  {
   "cell_type": "code",
   "execution_count": 60,
   "metadata": {},
   "outputs": [],
   "source": [
    "sampledata = df[['text', 'title']]"
   ]
  },
  {
   "cell_type": "code",
   "execution_count": 62,
   "metadata": {},
   "outputs": [
    {
     "ename": "ValueError",
     "evalue": "Boolean array expected for the condition, not object",
     "output_type": "error",
     "traceback": [
      "\u001b[1;31m---------------------------------------------------------------------------\u001b[0m",
      "\u001b[1;31mValueError\u001b[0m                                Traceback (most recent call last)",
      "\u001b[1;32m<ipython-input-62-59b4af3348ef>\u001b[0m in \u001b[0;36m<module>\u001b[1;34m\u001b[0m\n\u001b[1;32m----> 1\u001b[1;33m \u001b[0mx_train_2\u001b[0m\u001b[1;33m,\u001b[0m \u001b[0mx_test_2\u001b[0m\u001b[1;33m,\u001b[0m \u001b[0my_train_2\u001b[0m\u001b[1;33m,\u001b[0m \u001b[0my_test_2\u001b[0m \u001b[1;33m=\u001b[0m \u001b[0mtrain_test_split\u001b[0m\u001b[1;33m(\u001b[0m\u001b[0mdf\u001b[0m\u001b[1;33m[\u001b[0m\u001b[0msampledata\u001b[0m\u001b[1;33m]\u001b[0m\u001b[1;33m.\u001b[0m\u001b[0mvalues\u001b[0m\u001b[1;33m.\u001b[0m\u001b[0mastype\u001b[0m\u001b[1;33m(\u001b[0m\u001b[1;34m'str'\u001b[0m\u001b[1;33m)\u001b[0m\u001b[1;33m,\u001b[0m \u001b[0mlabels_3\u001b[0m\u001b[1;33m,\u001b[0m \u001b[0mtest_size\u001b[0m \u001b[1;33m=\u001b[0m \u001b[1;36m0.3\u001b[0m\u001b[1;33m,\u001b[0m \u001b[0mrandom_state\u001b[0m \u001b[1;33m=\u001b[0m \u001b[1;36m7\u001b[0m\u001b[1;33m)\u001b[0m\u001b[1;33m\u001b[0m\u001b[1;33m\u001b[0m\u001b[0m\n\u001b[0m",
      "\u001b[1;32m~\\anaconda3\\lib\\site-packages\\pandas\\core\\frame.py\u001b[0m in \u001b[0;36m__getitem__\u001b[1;34m(self, key)\u001b[0m\n\u001b[0;32m   2785\u001b[0m         \u001b[1;31m# Do we have a (boolean) DataFrame?\u001b[0m\u001b[1;33m\u001b[0m\u001b[1;33m\u001b[0m\u001b[1;33m\u001b[0m\u001b[0m\n\u001b[0;32m   2786\u001b[0m         \u001b[1;32mif\u001b[0m \u001b[0misinstance\u001b[0m\u001b[1;33m(\u001b[0m\u001b[0mkey\u001b[0m\u001b[1;33m,\u001b[0m \u001b[0mDataFrame\u001b[0m\u001b[1;33m)\u001b[0m\u001b[1;33m:\u001b[0m\u001b[1;33m\u001b[0m\u001b[1;33m\u001b[0m\u001b[0m\n\u001b[1;32m-> 2787\u001b[1;33m             \u001b[1;32mreturn\u001b[0m \u001b[0mself\u001b[0m\u001b[1;33m.\u001b[0m\u001b[0mwhere\u001b[0m\u001b[1;33m(\u001b[0m\u001b[0mkey\u001b[0m\u001b[1;33m)\u001b[0m\u001b[1;33m\u001b[0m\u001b[1;33m\u001b[0m\u001b[0m\n\u001b[0m\u001b[0;32m   2788\u001b[0m \u001b[1;33m\u001b[0m\u001b[0m\n\u001b[0;32m   2789\u001b[0m         \u001b[1;31m# Do we have a (boolean) 1d indexer?\u001b[0m\u001b[1;33m\u001b[0m\u001b[1;33m\u001b[0m\u001b[1;33m\u001b[0m\u001b[0m\n",
      "\u001b[1;32m~\\anaconda3\\lib\\site-packages\\pandas\\core\\generic.py\u001b[0m in \u001b[0;36mwhere\u001b[1;34m(self, cond, other, inplace, axis, level, errors, try_cast)\u001b[0m\n\u001b[0;32m   8919\u001b[0m         \u001b[0mother\u001b[0m \u001b[1;33m=\u001b[0m \u001b[0mcom\u001b[0m\u001b[1;33m.\u001b[0m\u001b[0mapply_if_callable\u001b[0m\u001b[1;33m(\u001b[0m\u001b[0mother\u001b[0m\u001b[1;33m,\u001b[0m \u001b[0mself\u001b[0m\u001b[1;33m)\u001b[0m\u001b[1;33m\u001b[0m\u001b[1;33m\u001b[0m\u001b[0m\n\u001b[0;32m   8920\u001b[0m         return self._where(\n\u001b[1;32m-> 8921\u001b[1;33m             \u001b[0mcond\u001b[0m\u001b[1;33m,\u001b[0m \u001b[0mother\u001b[0m\u001b[1;33m,\u001b[0m \u001b[0minplace\u001b[0m\u001b[1;33m,\u001b[0m \u001b[0maxis\u001b[0m\u001b[1;33m,\u001b[0m \u001b[0mlevel\u001b[0m\u001b[1;33m,\u001b[0m \u001b[0merrors\u001b[0m\u001b[1;33m=\u001b[0m\u001b[0merrors\u001b[0m\u001b[1;33m,\u001b[0m \u001b[0mtry_cast\u001b[0m\u001b[1;33m=\u001b[0m\u001b[0mtry_cast\u001b[0m\u001b[1;33m\u001b[0m\u001b[1;33m\u001b[0m\u001b[0m\n\u001b[0m\u001b[0;32m   8922\u001b[0m         )\n\u001b[0;32m   8923\u001b[0m \u001b[1;33m\u001b[0m\u001b[0m\n",
      "\u001b[1;32m~\\anaconda3\\lib\\site-packages\\pandas\\core\\generic.py\u001b[0m in \u001b[0;36m_where\u001b[1;34m(self, cond, other, inplace, axis, level, errors, try_cast)\u001b[0m\n\u001b[0;32m   8677\u001b[0m             \u001b[1;32mfor\u001b[0m \u001b[0mdt\u001b[0m \u001b[1;32min\u001b[0m \u001b[0mcond\u001b[0m\u001b[1;33m.\u001b[0m\u001b[0mdtypes\u001b[0m\u001b[1;33m:\u001b[0m\u001b[1;33m\u001b[0m\u001b[1;33m\u001b[0m\u001b[0m\n\u001b[0;32m   8678\u001b[0m                 \u001b[1;32mif\u001b[0m \u001b[1;32mnot\u001b[0m \u001b[0mis_bool_dtype\u001b[0m\u001b[1;33m(\u001b[0m\u001b[0mdt\u001b[0m\u001b[1;33m)\u001b[0m\u001b[1;33m:\u001b[0m\u001b[1;33m\u001b[0m\u001b[1;33m\u001b[0m\u001b[0m\n\u001b[1;32m-> 8679\u001b[1;33m                     \u001b[1;32mraise\u001b[0m \u001b[0mValueError\u001b[0m\u001b[1;33m(\u001b[0m\u001b[0mmsg\u001b[0m\u001b[1;33m.\u001b[0m\u001b[0mformat\u001b[0m\u001b[1;33m(\u001b[0m\u001b[0mdtype\u001b[0m\u001b[1;33m=\u001b[0m\u001b[0mdt\u001b[0m\u001b[1;33m)\u001b[0m\u001b[1;33m)\u001b[0m\u001b[1;33m\u001b[0m\u001b[1;33m\u001b[0m\u001b[0m\n\u001b[0m\u001b[0;32m   8680\u001b[0m \u001b[1;33m\u001b[0m\u001b[0m\n\u001b[0;32m   8681\u001b[0m         \u001b[0mcond\u001b[0m \u001b[1;33m=\u001b[0m \u001b[1;33m-\u001b[0m\u001b[0mcond\u001b[0m \u001b[1;32mif\u001b[0m \u001b[0minplace\u001b[0m \u001b[1;32melse\u001b[0m \u001b[0mcond\u001b[0m\u001b[1;33m\u001b[0m\u001b[1;33m\u001b[0m\u001b[0m\n",
      "\u001b[1;31mValueError\u001b[0m: Boolean array expected for the condition, not object"
     ]
    }
   ],
   "source": [
    "x_train_2, x_test_2, y_train_2, y_test_2 = train_test_split(df[sampledata].values.astype('str'), labels_3, test_size = 0.3, random_state = 7)"
   ]
  },
  {
   "cell_type": "code",
   "execution_count": 48,
   "metadata": {},
   "outputs": [
    {
     "data": {
      "text/plain": [
       "                                                                                                                                                                                                                                                                                                                                                                                                                                                                                                                                                                                                                                                                                                                                                                                                                                                                                                                                                                                                                                                                                                                                                                                                                                                                                                                                                                                                                                                                                                                                                                                                                                                                                                                                                                                                                                                                                                                                                                                                                                                                                                                                                                                                                                                                                                                                                                                                                                                                                                                                                                                                                                                                                                                                                                                                                                                                                                                                                                                                                                                                                                                                                                                                                                                                                                                                                                                                                                                                                                                                                                                                                                                                                                                                                                                                                                                                                                                                                                                                                                                                                                                                                                                                                                                                                                                                                                                                                                                                                                                                                                                                                                                                                                                                                                                                                                                                                                                                                                                                                                                                                                                                                                                                                                                                                                                                                                                                                                                                                                                                                                                                                                                                                                                                                                                                                                                                                                                                                                                                                                                                                                                                                                                                                                                                                                                                                                                                                                                                                                                                            75\n",
       "Leave a Reply Click here to get more info on formatting (1) Leave the name field empty if you want to post as Anonymous. It's preferable that you choose a name so it becomes clear who said what. E-mail address is not mandatory either. The website automatically checks for spam. Please refer to our moderation policies for more details. We check to make sure that no comment is mistakenly marked as spam. This takes time and effort, so please be patient until your comment appears. Thanks. (2) 10 replies to a comment are the maximum. (3) Here are formating examples which you can use in your writing:<b>bold text</b> results in bold text <i>italic text</i> results in italic text (You can also combine two formating tags with each other, for example to get bold-italic text.)<em>emphasized text</em> results in emphasized text <strong>strong text</strong> results in strong text <q>a quote text</q> results in a quote text (quotation marks are added automatically) <cite>a phrase or a block of text that needs to be cited</cite> results in: a phrase or a block of text that needs to be cited <blockquote>a heavier version of quoting a block of text...</blockquote> results in: a heavier version of quoting a block of text that can span several lines. Use these possibilities appropriately. They are meant to help you create and follow the discussions in a better way. They can assist in grasping the content value of a comment more quickly. and last but not least:<a href=''http://link-address.com''>Name of your link</a> results in Name of your link (4) No need to use this special character in between paragraphs:  ; You do not need it anymore. Just write as you like and your paragraphs will be separated. The \"Live Preview\" appears automatically when you start typing below the text area and it will show you how your comment will look like before you send it. (5) If you now think that this is too confusing then just ignore the code above and write as you like. Name:                                                                                                                                                                                                                                                                                                                                                                                                                                                                                                                                                                                                                                                                                                                                                                                                                                                                                                                                                                                                                                                                                                                                                                                                                                                                                                                                                                                                                                                                                                                                                                                                                                                                                                                                                                                                                                                                                                                                                                                                                                                                                                                                                                                                                                                                                                                                                                                                                                                                                                                                                                                                                                                                                                                                                                                                                                                                                                                                                                                                                                                                                                                                                                                                                                                                                                                                                                                                                                                                                                                                                                                                                                                                                                                                                                                                                                                                                                                                                                                                                                                                                                                                                                                                                                                                                                                                                                                                                                                                                       28\n",
       "source Add To The Conversation Using Facebook Comments                                                                                                                                                                                                                                                                                                                                                                                                                                                                                                                                                                                                                                                                                                                                                                                                                                                                                                                                                                                                                                                                                                                                                                                                                                                                                                                                                                                                                                                                                                                                                                                                                                                                                                                                                                                                                                                                                                                                                                                                                                                                                                                                                                                                                                                                                                                                                                                                                                                                                                                                                                                                                                                                                                                                                                                                                                                                                                                                                                                                                                                                                                                                                                                                                                                                                                                                                                                                                                                                                                                                                                                                                                                                                                                                                                                                                                                                                                                                                                                                                                                                                                                                                                                                                                                                                                                                                                                                                                                                                                                                                                                                                                                                                                                                                                                                                                                                                                                                                                                                                                                                                                                                                                                                                                                                                                                                                                                                                                                                                                                                                                                                                                                                                                                                                                                                                                                                                                                                                                                                                                                                                                                                                                                                                                                                                                                                                                                                                                                                                      26\n",
       "Click Here To Learn More About Alexandra's Personalized Essences Psychic Protection Click Here for More Information on Psychic Protection! Implant Removal Series Click here to listen to the IRP and SA/DNA Process Read The Testimonials Click Here To Read What Others Are Experiencing! Copyright © 2012 by Galactic Connection. All Rights Reserved. \\nExcerpts may be used, provided that full and clear credit is given to Alexandra Meadors and www.galacticconnection.com with appropriate and specific direction to the original content. Unauthorized use and/or duplication of any material on this website without express and written permission from its author and owner is strictly prohibited. Thank you. \\nPrivacy Policy \\nBy subscribing to GalacticConnection.com you acknowledge that your name and e-mail address will be added to our database. As with all other personal information, only working affiliates of GalacticConnection.com have access to this data. We do not give GalacticConnection.com addresses to outside companies, nor will we ever rent or sell your email address. Any e-mail you send to GalacticConnection.com is completely confidential. Therefore, we will not add your name to our e-mail list without your permission. Continue reading... Galactic Connection 2016 | Design & Development by AA at Superluminal Systems Sign Up forOur Newsletter \\nJoin our newsletter to receive exclusive updates, interviews, discounts, and more. Join Us!                                                                                                                                                                                                                                                                                                                                                                                                                                                                                                                                                                                                                                                                                                                                                                                                                                                                                                                                                                                                                                                                                                                                                                                                                                                                                                                                                                                                                                                                                                                                                                                                                                                                                                                                                                                                                                                                                                                                                                                                                                                                                                                                                                                                                                                                                                                                                                                                                                                                                                                                                                                                                                                                                                                                                                                                                                                                                                                                                                                                                                                                                                                                                                                                                                                                                                                                                                                                                                                                                                                                                                                                                                                                                                                                                                                                                                                                                                                                                                                                                                                                                                                                                                                                                                                                                                                                                                                                                                                                                                                                                                                                                                                                                                                                                                                                                                                                                                                                                                                                                                   26\n",
       "Nation Puts 2016 Election Into Perspective By Reminding Itself Some Species Of Sea Turtles Get Eaten By Birds Just Seconds After They Hatch WASHINGTON—Saying they felt anxious and overwhelmed just days before heading to the polls to decide a historically fraught presidential race, Americans throughout the country reportedly took a moment Thursday to put the 2016 election into perspective by reminding themselves that some species of sea turtles are eaten by birds just seconds after they hatch. Cleveland Indians Worried Team Cursed After Building Franchise On Old Native American Stereotype CLEVELAND—Having watched in horror as their team crumbled after a 3-1 World Series lead, members of the Cleveland Indians expressed concern Thursday that the organization has been cursed for building their franchise on an incredibly old Native American stereotype. Report: Election Day Most Americans’ Only Time In 2016 Being In Same Room With Person Supporting Other Candidate WASHINGTON—According to a report released Thursday by the Pew Research Center, Election Day 2016 will, for the majority of Americans, mark the only time this year they will occupy the same room as a person who supports a different presidential candidate. Nurse Reminds Elderly Man She’s Just Down The Hall If He Starts To Die DES PLAINES, IL—Assuring him that she’d be at his side in a jiffy, local nurse Wendy Kaufman reminded an elderly resident at the Briarwood Assisted Living Community that she was just down the hall if he started to die, sources reported Tuesday.                                                                                                                                                                                                                                                                                                                                                                                                                                                                                                                                                                                                                                                                                                                                                                                                                                                                                                                                                                                                                                                                                                                                                                                                                                                                                                                                                                                                                                                                                                                                                                                                                                                                                                                                                                                                                                                                                                                                                                                                                                                                                                                                                                                                                                                                                                                                                                                                                                                                                                                                                                                                                                                                                                                                                                                                                                                                                                                                                                                                                                                                                                                                                                                                                                                                                                                                                                                                                                                                                                                                                                                                                                                                                                                                                                                                                                                                                                                                                                                                                                                                                                                                                                                                                                                                                                                                                                                                                                                                                                                                                                                                                                                                                                                                                                                                                                                                                                                                     11\n",
       "                                                                                                                                                                                                                                                                                                                                                                                                                                                                                                                                                                                                                                                                                                                                                                                                                                                                                                                                                                                                                                                                                                                                                                                                                                                                                                                                                                                                                                                                                                                                                                                                                                                                                                                                                                                                                                                                                                                                                                                                                                                                                                                                                                                                                                                                                                                                                                                                                                                                                                                                                                                                                                                                                                                                                                                                                                                                                                                                                                                                                                                                                                                                                                                                                                                                                                                                                                                                                                                                                                                                                                                                                                                                                                                                                                                                                                                                                                                                                                                                                                                                                                                                                                                                                                                                                                                                                                                                                                                                                                                                                                                                                                                                                                                                                                                                                                                                                                                                                                                                                                                                                                                                                                                                                                                                                                                                                                                                                                                                                                                                                                                                                                                                                                                                                                                                                                                                                                                                                                                                                                                                                                                                                                                                                                                                                                                                                                                                                                                                                                                                            ..\n",
       "Фото: kremlin.ru \\nРоссия старается уважать право собственности, это касается и собственности Порошенко, подчеркнул российский лидер. \\n\"Мы стремимся к тому, чтобы уважать право собственности\", - сказал президент России, выразив согласие с известной позицией экс-министра финансов РФ Алексея Кудрина о том, что \"это один из столпов экономической политики\". \"У нас далеко не всегда так получается и нам практику нужно еще поправлять и в законодательстве многое еще нужно сделать, но мы всегда будем к этому стремиться\", - сказал глава государства. \\n\"То же самое касается и наших иностранных инвесторов, в том числе и украинских инвесторов. Петр Алексеевич Порошенко является одним из таких инвесторов, имея в виду, что он является собственником достаточно крупного предприятия в Липецкой области - фабрики \"Рошен\", - отметил Путин. \\nОн обратил при этом внимание, что речь идет даже о двух предприятиях, одно из которых занимается реализацией продукции. \"Там есть и некоторые проблемы, связанные с невозвратом НДС и судебные органы ввели определенные ограничительные меры, - сказал Путин. - Но фабрика работает ритмично, выплачивает зарплату, получает прибыль и нет никаких ограничений, связанных с использованием этой прибыли, в том числе - и с переводом ее за границу\". Российский лидер также сказал, что не помнит точный размер этой прибыли, так как не погружается \"в такие детали\", но фабрика \"работает успешно\". \\nНапомним, липецкая фабрика Порошенко пополнила бюджет России на $34 млн. По сравнению с предыдущим годом выплаты увеличились в 2,5 раза. \\nКак сообщала Правда.Ру, во время предвыборной кампании украинский президент обещал, что продаст свои активы, в том числе, и кондитерскую фабрику в Липецке, однако пока эти обещания так и не выполнены. \\nЧитайте последние новости Pravda. Ru на сегодня \\n                                                                                                                                                                                                                                                                                                                                                                                                                                                                                                                                                                                                                                                                                                                                                                                                                                                                                                                                                                                                                                                                                                                                                                                                                                                                                                                                                                                                                                                                                                                                                                                                                                                                                                                                                                                                                                                                                                                                                                                                                                                                                                                                                                                                                                                                                                                                                                                                                                                                                                                                                                                                                                                                                                                                                                                                                                                                                                                                                                                                                                                                                                                                                                                                                                                                                                                                                                                                                                                                                                                                                                                                                                                                                                                                                                                                                                                                                                                                                                                                                                                                                                                                                                                                                                                                                                                                                                                                                                                                                                                                                                                                                                                          1\n",
       "Videos Tensions Rise As Pipeline Construction Nears #NoDAPL Blockade The Oceti Sakowin tribe declared eminent domain on land bought by Dakota Access and set up their new winter camp in the direct path of the pipeline on 1851 treaty land. | October 27, 2016 Be Sociable, Share! \\nOceti Sakowin, ND – On Sunday, October 23rd , water protectors extended camp beyond the overflow site, just north of the Standing Rock reservation, to the pipeline easement line. The Oceti Sakowin declared eminent domain on land bought by Dakota Access and set up their new winter camp in the direct path of the pipeline on 1851 treaty land. \\nAs the encampment was formed, two blockades were created, one on county road 146 and one north of the new winter camp on Highway 1806. We spoke to various blockaders who stated their goal was to ensure safety of the water protectors as they prepared their camps for winter. \\nThe video below contains interviews with various water protectors at the multiple blockades and camps. The following day, after the new winter camp was established, a no-fly zone was declared by law enforcement. FAA informed Unicorn Riot that \"only response aircraft in support of law enforcement\" can fly in no-fly zone https://t.co/4eax21fw59 #NoDAPL pic.twitter.com/nZuNKtbFrb This no-fly zone was created, according to the Morton County Sheriff, to ground all drones being flown by water protectors and journalists. The Temporary Flight Restriction (TFR) notice on the FAA’s website lists the North Dakota Tactical Operations Center as responsible for issuing the TFR . \\nOn October 26th, 2016, the Morton County Sheriff’s Department, and various other agencies working alongside them, erected a concrete blockade just two miles north of the frontline #NoDAPL blockade. The new law enforcement blockade is currently manned by sheriff’s deputies armed with automatic rifles. \\nWe reported live from the frontline as water protectors gathered near the blockades expecting a raid on the camps by police, military and private DAPL security assets. \\nAll day, patrol planes and helicopters flew low over the water protectors, while private security vehicles gathered on the hills west of the frontline camp. This yellow helicopter has been flying low over #NoDAPL water protectors for months- & seems to be exempt from new no-fly zone. pic.twitter.com/xPuq9bNneI \\n— Unicorn Riot (@UR_Ninja) October 27, 2016 \\nCass County Sheriff Paul Laney, who has been acting as “Director of Operations” for Morton County Sheriff, came to the new winter camp today with representatives from the National Guard and asked people to leave the new site and return to the main camp, Forum News Service reports. “We’re here telling you this is private property and you have to leave,” Laney told camp coordinator Mekasi Camp-Horinek. “We don’t want a confrontation. Please stand your people down and go back to the main camp.” Mekasi pointed at the road – “our no surrender line,” he said – and then back at the frontline camp standing in the way of the four-state, $3.8 billion oil pipeline – their “no retreat” line. “That’s your final word?” Laney asked. “That’s my final word,” Camp-Horinek said, walking away. \\nPipeline construction is less than half a mile from Highway 1806 and we can verify that machines can be heard working from the new frontline camp. Law enforcement in trucks & DAPL security in dune buggies watching Oceti Sakowin front line camp from hills maybe 200 yards away. #NoDAPL pic.twitter.com/NuqlC94gVd \\n— Unicorn Riot (@UR_Ninja) October 26, 2016 This work (including header image) by Unicorn Riot is licensed under a Creative Commons Attribution-NonCommercial-ShareAlike International License.                                                                                                                                                                                                                                                                                                                                                                                                                                                                                                                                                                                                                                                                                                                                                                                                                                                                                                                                                                                                                                                                                                                                                                                                                                                                                                                                                                                                                                                                                                                                                                                                                                                                                                                                                                                                                                                                                                                                                                                                                                                                                                                                                                                                                                                                                                                                                                                                                                                                                                                                                                                                                                                                                        1\n",
       "It has been a long time coming  —   eight years, in fact  —   but the economic recovery is finally showing up in the average American worker’s paycheck in a big way. There have been plenty of winners in the recovery, which began in  : companies, homeowners, investors and, especially, households at the apex of the economic pyramid. But the paucity of gains in   pay has stoked anxiety and frustration for many others, a factor in the wave of discontent that   Donald J. Trump rode to victory in November. But even as Mr. Trump prepares to succeed President Obama in two weeks, the Labor Department reported on Friday that average hourly earnings rose by 2. 9 percent last year, the best annual performance since the recovery began. And many economists expect the trend to gain momentum this year, as a tighter labor market forces employers to pay more to hire and retain workers. “This is a turning point for the overall economy,” said Diane Swonk, a veteran independent economist in Chicago. While wage growth was robust last year, government data for December showed a more tepid increase in employment, with 156, 000 jobs added during the month, and a slight uptick in the unemployment rate to 4. 7 percent. Until recently, a rise in salaries one month would peter out the next, but the upward trajectory in 2016 reflects wage gains even for Americans at the low end of the pay scale, Ms. Swonk said. Leisure and hospitality workers, for example, saw hourly earnings jump 4. 4 percent from a year earlier, equal to the increase enjoyed by employees in the surging technology sector. To be sure, a number of the economic problems cited by Mr. Trump during the campaign remain: millions of former workers not even looking for jobs, ebbing factory positions and fewer opportunities for the 55 percent of Americans without college degrees or other   school credentials. “Strong economic growth doesn’t really matter if it’s not widely distributed,” Ms. Swonk said. “You can have a better economy but still not good enough for people who aren’t participating at all. ” A more comprehensive government barometer of unemployment, which includes workers forced to take   jobs because   positions were not available, stood at 9. 2 percent in December, a much higher level than at this point in past recoveries. But rising wages should counter the economic undertow, especially if the gains remain  . And while a 2. 9 percent increase may not sound like much, it goes much further because inflation is about 1. 7 percent. Economists expect wages to rise by up to 3. 5 percent in 2017  —   still below the gains many workers saw in the recovery of the   and in the   boom of the late 1990s. Although not reflected in the December figures, many   workers are getting raises this year because of state increases in the local minimum wage. Some of the increases were substantial, with Arizona, Maine and Washington each raising the floor by $1. 50 or more an hour. Even in California, where, at 50 cents an hour, the wage gain is not as steep, one in 10 workers has gotten a raise. And   gains can have a spillover effect, pushing up pay for workers just above the bottom salary tier. For all his criticism during the campaign of Mr. Obama’s economic stewardship, Mr. Trump will inherit an economy that is fundamentally solid. Consumer sentiment, corporate profits and the stock market are all at or near multiyear highs. On Friday, Wall Street embraced the       labor market figures, lifting the Dow Jones industrial average close to 20, 000 and a new nominal record. Investors and traders are watching the jobs data closely for clues about when the Federal Reserve Board may next raise interest rates. Last month, the Fed increased interest rates for only the second time in a decade, and policy makers signaled that three more increases could come this year. The wage gains are among the reasons the Fed is likely to stick to that plan, Ms. Swonk, the Chicago economist, said. Monthly job creation last year was well below the 236, 000 average for hiring in 2014 and 2015. But with the economy close to what Fed policy makers and other experts consider full employment, employers are increasing wages, to retain workers and to attract new ones. While the minimum wage increases provide a floor when it comes to pay, the ceiling continues to rise in fields like financial services, sales and technology, said Tom Gimbel, chief executive of LaSalle Network, a Chicago staffing company. “Across the board, I see more aggressive salaries being offered by corporations than at any time in the last 10 years,” Mr. Gimbel said. Seasoned sales representatives are drawing base salaries of $150, 000 a year, compared with $125, 000 two years ago, according to Mr. Gimbel.   software developers who once started at around $50, 000 a year can now command $70, 000. Other executives in the Midwest also report upward pressure on wages, including in grittier settings than the   fields where engineers and financial professionals cluster. At Lou Malnati’s Pizzeria, which has 46 restaurants in the Chicago area and one in Phoenix,   pay in hourly positions like server, cook and dishwasher is now about $11. 50 an hour, compared with $10 an hour three years ago. Mark Agnew, the chain’s president, said most of the increase was a result of the steady rise in Chicago’s minimum wage, which has gone from $8. 25 in 2014 to $10. 50 now. It is set to hit $13 by summer 2019. “We want to stay ahead of the minimum wage because we want to attract the best talent,” Mr. Agnew said. A substantial portion of the chain’s 3, 000 workers have been with the company for more than 10 years, a rarity in the   restaurant industry that is another benefit of the slightly higher wages. Economists and politicians have long debated whether raising the minimum wage ultimately hurts workers as companies cut positions or leave them unfilled in the face of rising labor costs. So far, that has not been the case at Lou Malnati’s, Mr. Agnew said. The chain has opened about a dozen new locations in the past three years, adding about 600 workers to its payroll over all. “It’s very tricky, and I know the minimum wage may erode job creation in some industries,” he said. “But in my own company, it hasn’t hurt hiring. ”     1\n",
       "A former Univision host stands accused of raping a girl multiple times last year. [Victor Hugo   35, was charged in Arkansas on May 15 for allegedly raping a    girl multiple times in 2016, 5NEWS reported.  Police issued an arrest warrant for   on May 25 and have so far been unable to locate him. A relative of the victim, Barbara Gutierrez, said this entire ordeal had been the most difficult thing she has ever experienced because of the pain and suffering of the little girl. “Because I have to absorb  …    I have to absorb what she’s going through and take it in myself,” Gutierrez said. “It’s been the most difficult challenge I’ve ever faced. ” Gutierrez said the local community has reached out and shown a tremendous amount of support but that she wants all efforts focused on finding  . “We must bring awareness and we must stand up to these people who want to hurt kids and we must stop it,” Gutierrez said. “It cannot go on anymore. ” According to 5NEWS, Pinnacle Media   President Gregory Fess said in a statement on May 27 that   left the company earlier this year. “Pinnacle Media does not take any responsibility for personal actions of former employees,” Fess said. Univision has had a rough go in recent months after staking out editorial positions against President Trump’s presidential campaign in 2016. In November 2016, Breitbart News reported that Univision was planning on laying off up to 250 employees after recording a $30. 5 million loss in revenues during the third quarter. WikiLeaks previously revealed that Univision’s owner counseled failed presidential candidate Hillary Clinton in her strategy with the Latino community during her 2016 campaign. Ryan Saavedra is a contributor for Breitbart Texas and can be found on Twitter at @RealSaavedra.                                                                                                                                                                                                                                                                                                                                                                                                                                                                                                                                                                                                                                                                                                                                                                                                                                                                                                                                                                                                                                                                                                                                                                                                                                                                                                                                                                                                                                                                                                                                                                                                                                                                                                                                                                                                                                                                                                                                                                                                                                                                                                                                                                                                                                                                                                                                                                                                                                                                                                                                                                                                                                                                                                                                                                                                                                                                                                                                                                                                                                                                                                                                                                                                                                                                                                                                                                                                                                                                                                                                                                                                                                                                                                                                                                                                                                                                                                                                                                                                                                                                                                                                                                                                                                                                                                                                                                                                                                                                                                                                                                                                                                                                                           1\n",
       "0 419 \\nSocial Security is the lifeline of many people who are either too elderly or disabled to support themselves or their loved ones financially. However, to Republicans and conservatives alike, it is an expenditure deemed too costly, even if it means certain death for those who depend on it. \\nForget for a moment that elderly people who worked their entire lives have paid into social security, and should therefore be completely off limits. How could anyone with a soul leave the elderly to die in poverty? And what about those people who are physically and/or mentally disabled? Should we, as a nation, not take care of those citizens? Should we leave them to survive on the streets? \\nDonald Trump is not known to do much critical thinking, especially before releasing a statement to the media, but his insane remarks on cutting Social Security have really got liberals fuming. Check out that time Trump told Paul Ryan that he would love to cut Social Security if he didn’t think it would be political suicide: \\n“From a moral standpoint, I believe in it. But you also have to get elected. And there’s no way a Republican is going to beat a Democrat when the Republican is saying, ‘We’re going to cut your Social Security’ and the Democrat is saying, ‘We’re going to keep it and give you more.’ ” \\nTrump is really trying to say that the lazy people in this country will always vote Democrat because it is Democrats who ensure that the less fortunate are, at least, able to keep their heads above water. To politicians like Donald Trump, these “extras” are killing the country. \\nThat’s right folks, it’s Ma and Pa Kettle who are ruining the country with their $1200 monthly allotment from the Treasury Department. It certainly wouldn’t be wasteful, greedy real estate moguls who use other people’s money to pay for their extravagant business deals. \\nAlex Lawson is the Executive Director of Social Security Works, and he has a much different theory on Trump’s motives with Social Security. Lawson had this to say about it: \\n“It is really clear: Donald Trump would 100 percent go along with the Republican donor class position of cutting Social Security. He openly says he will lie to the people about it because he knows that the people are against it.” \\n“In his eyes the ‘moral’ thing to do is to steal people’s hard-earned benefits and not talk about it.” \\nAs we have learned throughout this election season, Donald Trump almost never tells the truth. Yet, he still convinces his mindless followers that he would somehow be good for America, regardless of the fact that there is nothing but evidence to prove the opposite. Trump won’t be happy until our grandparents are living in squalor and eating ramen for every meal. \\nWake me up when November ends.. Share this Article!                                                                                                                                                                                                                                                                                                                                                                                                                                                                                                                                                                                                                                                                                                                                                                                                                                                                                                                                                                                                                                                                                                                                                                                                                                                                                                                                                                                                                                                                                                                                                                                                                                                                                                                                                                                                                                                                                                                                                                                                                                                                                                                                                                                                                                                                                                                                                                                                                                                                                                                                                                                                                                                                                                                                                                                                                                                                                                                                                                                                                                                                                                                                                                                                                                                                                                                                                                                                                                                                                                                                                                                                                                      1\n",
       "Name: text, Length: 20386, dtype: int64"
      ]
     },
     "execution_count": 48,
     "metadata": {},
     "output_type": "execute_result"
    }
   ],
   "source": [
    "texts = df.text\n",
    "texts.value_counts()"
   ]
  },
  {
   "cell_type": "code",
   "execution_count": 50,
   "metadata": {},
   "outputs": [
    {
     "data": {
      "text/plain": [
       "Get Ready For Civil Unrest: Survey Finds That Most Americans Are Concerned About Election Violence                           5\n",
       "The Dark Agenda Behind Globalism And Open Borders                                                                            5\n",
       "Let’s Be Clear – A Vote For Warmonger Hillary Clinton Is A Vote For World War 3                                              4\n",
       "The Fix Is In: NBC Affiliate Accidentally Posts Election Results A Week Early: Hillary Wins Presidency 42% to Trump’s 40%    4\n",
       "What to Cook This Week - The New York Times                                                                                  4\n",
       "                                                                                                                            ..\n",
       "Donald Trump on Terror: ‘This Bloodshed Must End’                                                                            1\n",
       "As More Devices Board Planes, Travelers Are Playing With Fire - The New York Times                                           1\n",
       "Comedy Central Launches Late-Night Trump-Mocking ’President Show’                                                            1\n",
       "Penn State President Claims MILO Creating ’Anti-Free Speech Movement’ - Breitbart                                            1\n",
       "We Are All Deplorables                                                                                                       1\n",
       "Name: title, Length: 19803, dtype: int64"
      ]
     },
     "execution_count": 50,
     "metadata": {},
     "output_type": "execute_result"
    }
   ],
   "source": [
    "titles = df.title\n",
    "titles.value_counts()"
   ]
  },
  {
   "cell_type": "code",
   "execution_count": 59,
   "metadata": {},
   "outputs": [],
   "source": [
    "#x_train_2, x_test_2, y_train_2, y_test_2 = train_test_split([np.transpose(texts, titles)].values.astype('str'), labels_3, test_size = 0.3, random_state = 7)"
   ]
  },
  {
   "cell_type": "code",
   "execution_count": null,
   "metadata": {},
   "outputs": [],
   "source": [
    "tfidf_vectorizer_2 = TfidfVectorizer(stop_words='english', max_df=0.7)\n",
    "#Fit and transform train set, transform test set\n",
    "\n",
    "tfidf_train_2 = tfidf_vectorizer_2.fit_transform(x_train_2) \n",
    "tfidf_test_2 = tfidf_vectorizer_2.transform(x_test_2)"
   ]
  },
  {
   "cell_type": "code",
   "execution_count": null,
   "metadata": {},
   "outputs": [],
   "source": [
    "pa_classifier_2 = PassiveAggressiveClassifier(max_iter = 50)\n",
    "pa_classifier_2.fit(tfidf_train_2, y_train_2)"
   ]
  },
  {
   "cell_type": "code",
   "execution_count": null,
   "metadata": {},
   "outputs": [],
   "source": [
    "y_pred_2 = pa_classifier_2e.predict(tfidf_test_2)\n",
    "score_2 = accuracy_score(y_test_2, y_pred_2)\n",
    "print('Accuracy:', score_2)"
   ]
  },
  {
   "cell_type": "code",
   "execution_count": null,
   "metadata": {},
   "outputs": [],
   "source": [
    "print(f'Accuracy: {round(score_2*100, 3)}%')"
   ]
  },
  {
   "cell_type": "code",
   "execution_count": null,
   "metadata": {},
   "outputs": [],
   "source": [
    "confusion_matrix(y_test_2, y_pred_2, labels = ['FAKE', 'REAL'])"
   ]
  },
  {
   "cell_type": "markdown",
   "metadata": {},
   "source": [
    "Results: "
   ]
  },
  {
   "cell_type": "code",
   "execution_count": null,
   "metadata": {},
   "outputs": [],
   "source": [
    "print(metrics.classification_report(y_test_2, y_pred_2, labels = ['FAKE', 'REAL']))"
   ]
  }
 ],
 "metadata": {
  "kernelspec": {
   "display_name": "Python 3",
   "language": "python",
   "name": "python3"
  },
  "language_info": {
   "codemirror_mode": {
    "name": "ipython",
    "version": 3
   },
   "file_extension": ".py",
   "mimetype": "text/x-python",
   "name": "python",
   "nbconvert_exporter": "python",
   "pygments_lexer": "ipython3",
   "version": "3.7.6"
  }
 },
 "nbformat": 4,
 "nbformat_minor": 4
}
